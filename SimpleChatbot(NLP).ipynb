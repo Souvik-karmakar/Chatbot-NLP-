{
  "nbformat": 4,
  "nbformat_minor": 0,
  "metadata": {
    "colab": {
      "name": "SimpleChatbot(NLP).ipynb",
      "provenance": []
    },
    "kernelspec": {
      "name": "python3",
      "display_name": "Python 3"
    },
    "language_info": {
      "name": "python"
    }
  },
  "cells": [
    {
      "cell_type": "code",
      "metadata": {
        "colab": {
          "base_uri": "https://localhost:8080/"
        },
        "id": "gz533PllBedr",
        "outputId": "c989823d-972b-4127-9030-2df0487a9e3b"
      },
      "source": [
        "import nltk\n",
        "import warnings\n",
        "warnings.filterwarnings(\"ignore\")\n",
        "nltk.download() # for downloading packages\n"
      ],
      "execution_count": 3,
      "outputs": [
        {
          "output_type": "stream",
          "text": [
            "NLTK Downloader\n",
            "---------------------------------------------------------------------------\n",
            "    d) Download   l) List    u) Update   c) Config   h) Help   q) Quit\n",
            "---------------------------------------------------------------------------\n",
            "Downloader> q\n"
          ],
          "name": "stdout"
        },
        {
          "output_type": "execute_result",
          "data": {
            "text/plain": [
              "True"
            ]
          },
          "metadata": {
            "tags": []
          },
          "execution_count": 3
        }
      ]
    },
    {
      "cell_type": "code",
      "metadata": {
        "id": "TpSLXt3TBrCP"
      },
      "source": [
        "\n",
        "import numpy as np\n",
        "import random\n",
        "import string # to process standard python strings\n"
      ],
      "execution_count": 4,
      "outputs": []
    },
    {
      "cell_type": "code",
      "metadata": {
        "id": "tLTFDaocCDkz"
      },
      "source": [
        "# For our example,we will be using the Wikipedia page for chatbots as our corpus.\n",
        "# Copy the contents from the page and place it in a text file named ‘chatbot.txt’.\n",
        "# However, you can use any corpus of your choice.\n",
        "# We will read in the corpus.txt file\n",
        "f=open('Chatbot.txt','r',errors = 'ignore')\n",
        "raw=f.read()\n",
        "raw=raw.lower()# converts to lowercase\n"
      ],
      "execution_count": 5,
      "outputs": []
    },
    {
      "cell_type": "code",
      "metadata": {
        "colab": {
          "base_uri": "https://localhost:8080/"
        },
        "id": "jDe_OcpLCIbz",
        "outputId": "997b6690-5766-46e6-e7b0-32af55fde09e"
      },
      "source": [
        "nltk.download('punkt') # first-time use only\n",
        "nltk.download('wordnet') # first-time use only\n"
      ],
      "execution_count": 7,
      "outputs": [
        {
          "output_type": "stream",
          "text": [
            "[nltk_data] Downloading package punkt to /root/nltk_data...\n",
            "[nltk_data]   Unzipping tokenizers/punkt.zip.\n",
            "[nltk_data] Downloading package wordnet to /root/nltk_data...\n",
            "[nltk_data]   Unzipping corpora/wordnet.zip.\n"
          ],
          "name": "stdout"
        },
        {
          "output_type": "execute_result",
          "data": {
            "text/plain": [
              "True"
            ]
          },
          "metadata": {
            "tags": []
          },
          "execution_count": 7
        }
      ]
    },
    {
      "cell_type": "code",
      "metadata": {
        "colab": {
          "base_uri": "https://localhost:8080/"
        },
        "id": "lZZUoW5oCLjb",
        "outputId": "00664b13-c036-4957-a9ed-09f373d7d3cb"
      },
      "source": [
        "# convert the entire corpus into a list of sentences and a list of words for further pre-processing\n",
        "sent_tokens = nltk.sent_tokenize(raw)# converts to list of sentences\n",
        "word_tokens = nltk.word_tokenize(raw)# converts to list of words\n",
        "sent_tokens[:2]\n",
        "word_tokens[:5]"
      ],
      "execution_count": 9,
      "outputs": [
        {
          "output_type": "execute_result",
          "data": {
            "text/plain": [
              "['what', 'is', 'covid-19', '?', 'ans-covid-19']"
            ]
          },
          "metadata": {
            "tags": []
          },
          "execution_count": 9
        }
      ]
    },
    {
      "cell_type": "code",
      "metadata": {
        "colab": {
          "base_uri": "https://localhost:8080/",
          "height": 35
        },
        "id": "qYZ612AIRdA4",
        "outputId": "86471e96-01cd-4f16-fe5a-77ef365c1cf7"
      },
      "source": [
        "sent_tokens[0]"
      ],
      "execution_count": 10,
      "outputs": [
        {
          "output_type": "execute_result",
          "data": {
            "application/vnd.google.colaboratory.intrinsic+json": {
              "type": "string"
            },
            "text/plain": [
              "'what is covid-19?'"
            ]
          },
          "metadata": {
            "tags": []
          },
          "execution_count": 10
        }
      ]
    },
    {
      "cell_type": "code",
      "metadata": {
        "colab": {
          "base_uri": "https://localhost:8080/"
        },
        "id": "o0Q5EuV5Rhzi",
        "outputId": "412a1fc4-513d-400d-c304-9760a5f98264"
      },
      "source": [
        "word_tokens[:5]"
      ],
      "execution_count": 11,
      "outputs": [
        {
          "output_type": "execute_result",
          "data": {
            "text/plain": [
              "['what', 'is', 'covid-19', '?', 'ans-covid-19']"
            ]
          },
          "metadata": {
            "tags": []
          },
          "execution_count": 11
        }
      ]
    },
    {
      "cell_type": "code",
      "metadata": {
        "id": "jhrW-vFzVYIW"
      },
      "source": [
        "#WordNet is a semantically-oriented dictionary of English included in NLTK.\n",
        "lemmer = nltk.stem.WordNetLemmatizer()\n",
        "# LemTokens will take as input the tokens and return normalized tokens.\n",
        "def LemTokens(tokens):\n",
        "   return [lemmer.lemmatize(token) for token in tokens]\n",
        "remove_punct_dict = dict((ord(punct), None) for punct in string.punctuation)\n",
        "def LemNormalize(text):\n",
        "   return LemTokens(nltk.word_tokenize(text.lower().translate(remove_punct_dict)))\n"
      ],
      "execution_count": 13,
      "outputs": []
    },
    {
      "cell_type": "code",
      "metadata": {
        "id": "vFEkHcSaVhF9"
      },
      "source": [
        "GREETING_INPUTS = (\"hello\", \"hi\", \"greetings\", \"sup\", \"what's up\",\"hey\",)\n",
        "GREETING_RESPONSES = [\"hi\", \"hey\", \"*nods*\", \"hi there\", \"hello\", \"I am glad! You are talking to me\"]\n",
        "# Checking for greetings\n",
        "# define a function for a greeting by the bot i.e if a user’s input is a greeting,\n",
        "# the bot shall return a greeting response.\n",
        "def greeting(sentence):\n",
        "   \"\"\"If user's input is a greeting, return a greeting response\"\"\"\n",
        "   for word in sentence.split():\n",
        "       if word.lower() in GREETING_INPUTS:\n",
        "           return random.choice(GREETING_RESPONSES)\n"
      ],
      "execution_count": 14,
      "outputs": []
    },
    {
      "cell_type": "code",
      "metadata": {
        "id": "WTy7G6h3rovj"
      },
      "source": [
        "# the words need to be encoded as integers or floating point values\n",
        "# for use as input to a machine learning algorithm, called feature extraction (or vectorization).\n",
        "from sklearn.feature_extraction.text import TfidfVectorizer\n",
        "# find the similarity between words entered by the user and the words in the corpus.\n",
        "# This is the simplest possible implementation of a chatbot.\n",
        "from sklearn.metrics.pairwise import cosine_similarity\n",
        "# Generating response\n",
        "# define a function response which searches the user’s utterance for one or more known keywords\n",
        "# and returns one of several possible responses. If it doesn’t find the input matching any of the keywords,\n",
        "# it returns a response:” I am sorry! I don’t understand you”\n",
        "\n"
      ],
      "execution_count": 39,
      "outputs": []
    },
    {
      "cell_type": "code",
      "metadata": {
        "colab": {
          "base_uri": "https://localhost:8080/"
        },
        "id": "fwMPb3AeXcN2",
        "outputId": "10a3f7ca-5dca-4234-81bd-f301cebf572e"
      },
      "source": [
        "def response(user_response):\n",
        "  robo_response=''\n",
        "  sent_tokens.append(user_response)\n",
        "  \n",
        "  # TF-IDF are word frequency scores that try to highlight words that are more interesting,\n",
        "   # e.g. frequent in a document but not across documents.\n",
        "   # The TfidfVectorizer will tokenize documents, learn the vocabulary and\n",
        "   # inverse document frequency weightings, and allow you to encode new documents.\n",
        "  TfidfVec = TfidfVectorizer(tokenizer=LemNormalize, stop_words='english')\n",
        "   # Learn vocabulary and idf, return term-document matrix\n",
        "   # Returns X : Tf-idf-weighted sparse matrix, [n_samples, n_features] \n",
        "  tfidf = TfidfVec.fit_transform(sent_tokens)\n",
        "   # print (tfidf.shape)\n",
        "  \n",
        "   # Cosine similarity is a measure of similarity between two non-zero vectors.\n",
        "   # Using this formula we can find out the similarity between any two documents d1 and d2.\n",
        "   # Cosine Similarity (d1, d2) =  Dot product(d1, d2) / ||d1|| * ||d2||\n",
        "  vals = cosine_similarity(tfidf[-1], tfidf)\n",
        "  \n",
        "  \n",
        "   # function is used to perform an indirect sort along the given axis using the algorithm\n",
        "   # specified by the kind keyword. It returns an array of indices of the same shape as arr\n",
        "   # that would sort the array.\n",
        "  idx=vals.argsort()[0][-2]\n",
        "  \n",
        "   # Returns a new array that is a one-dimensional flattening of this array (recursively).\n",
        "   # That is, for every element that is an array, extract its elements into the new array.\n",
        "   # If the optional level argument determines the level of recursion to flatten.\n",
        "  flat = vals.flatten()\n",
        "  \n",
        "  flat.sort()\n",
        "  req_tfidf = flat[-2]\n",
        "  if(req_tfidf==0):\n",
        "       robo_response=robo_response+\"I am sorry! I don't understand you\"\n",
        "       return robo_response\n",
        "  else:\n",
        "       robo_response = robo_response+sent_tokens[idx]\n",
        "       return robo_response\n",
        "\n",
        "flag=True\n",
        "print(\"ROBO: My name is Chatty. I will answer your queries about Chatbots. If you want to exit, type Bye!\")\n",
        "while(flag==True):\n",
        "   user_response = input()\n",
        "   user_response=user_response.lower()\n",
        "   if(user_response!='bye'):\n",
        "       if(user_response=='thanks' or user_response=='thank you' ):\n",
        "           flag=False\n",
        "           print(\"ROBO: You are welcome..\")\n",
        "       else:\n",
        "           if(greeting(user_response)!=None):\n",
        "               print(\"ROBO: \"+greeting(user_response))\n",
        "           else:\n",
        "               print(\"ROBO: \",end=\"\")\n",
        "               print(response(user_response))\n",
        "               sent_tokens.remove(user_response)\n",
        "   else:\n",
        "       flag=False\n",
        "       print(\"ROBO: Bye! take care..\")   "
      ],
      "execution_count": 40,
      "outputs": [
        {
          "output_type": "stream",
          "text": [
            "ROBO: My name is Chatty. I will answer your queries about Chatbots. If you want to exit, type Bye!\n",
            "Hi\n",
            "ROBO: *nods*\n",
            "What is COVID-19?\n",
            "ROBO: what is covid-19?\n",
            "what is covid-19?\n",
            "ROBO: what is covid-19?\n",
            "Bye\n",
            "ROBO: Bye! take care..\n"
          ],
          "name": "stdout"
        }
      ]
    }
  ]
}